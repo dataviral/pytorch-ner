{
 "cells": [
  {
   "cell_type": "markdown",
   "id": "26349f69",
   "metadata": {},
   "source": [
    "## Data\n",
    "https://www.kaggle.com/abhinavwalia95/entity-annotated-corpus"
   ]
  },
  {
   "cell_type": "code",
   "execution_count": 1,
   "id": "ba73e614",
   "metadata": {},
   "outputs": [],
   "source": [
    "import pandas as pd\n",
    "import torch\n",
    "from tqdm import tqdm\n",
    "import numpy as np"
   ]
  },
  {
   "cell_type": "markdown",
   "id": "53a75177",
   "metadata": {},
   "source": [
    "## Data Processing"
   ]
  },
  {
   "cell_type": "code",
   "execution_count": 2,
   "id": "9bfac9c7",
   "metadata": {},
   "outputs": [
    {
     "name": "stderr",
     "output_type": "stream",
     "text": [
      "/Users/f707729/miniconda3/envs/py38/lib/python3.8/site-packages/IPython/core/interactiveshell.py:3437: FutureWarning: The error_bad_lines argument has been deprecated and will be removed in a future version.\n",
      "\n",
      "\n",
      "  exec(code_obj, self.user_global_ns, self.user_ns)\n",
      "/Users/f707729/miniconda3/envs/py38/lib/python3.8/site-packages/IPython/core/interactiveshell.py:3437: DtypeWarning: Columns (21) have mixed types.Specify dtype option on import or set low_memory=False.\n",
      "  exec(code_obj, self.user_global_ns, self.user_ns)\n"
     ]
    }
   ],
   "source": [
    "df = pd.read_csv(\n",
    "    \"../../data/ner.csv\",\n",
    "     encoding = \"ISO-8859-1\",\n",
    "     error_bad_lines=False,\n",
    "     usecols=['sentence_idx', 'word', 'tag']\n",
    ")"
   ]
  },
  {
   "cell_type": "code",
   "execution_count": 3,
   "id": "27818581",
   "metadata": {},
   "outputs": [],
   "source": [
    "df  = df[df['sentence_idx'] != 'prev-lemma'].dropna(subset=['sentence_idx']).reset_index(drop=True)"
   ]
  },
  {
   "cell_type": "code",
   "execution_count": 36,
   "id": "8c70470d",
   "metadata": {},
   "outputs": [],
   "source": [
    "def get_data(df):\n",
    "    sentences, sentence_tags = [], []\n",
    "\n",
    "    for sid, group in tqdm(df.groupby(\"sentence_idx\")):\n",
    "        words = group[\"word\"].tolist()\n",
    "        tags = group[\"tag\"].tolist()\n",
    "        \n",
    "        assert len(words) == len(tags)\n",
    "        \n",
    "        sentences.append(words)\n",
    "        sentence_tags.append(tags)\n",
    "    \n",
    "    return sentences, sentence_tags"
   ]
  },
  {
   "cell_type": "code",
   "execution_count": 5,
   "id": "cf6a211f",
   "metadata": {},
   "outputs": [
    {
     "name": "stderr",
     "output_type": "stream",
     "text": [
      "100%|██████████| 36684/36684 [00:03<00:00, 10078.43it/s]\n"
     ]
    }
   ],
   "source": [
    "sentences, tags = get_data(df)"
   ]
  },
  {
   "cell_type": "code",
   "execution_count": 6,
   "id": "d06b4a30",
   "metadata": {},
   "outputs": [
    {
     "name": "stdout",
     "output_type": "stream",
     "text": [
      "[('Thousands', 'O'), ('of', 'O'), ('demonstrators', 'O'), ('have', 'O'), ('marched', 'O'), ('through', 'O'), ('London', 'B-geo'), ('to', 'O'), ('protest', 'O'), ('the', 'O'), ('war', 'O'), ('in', 'O'), ('Iraq', 'B-geo'), ('and', 'O'), ('demand', 'O'), ('the', 'O'), ('withdrawal', 'O'), ('of', 'O'), ('British', 'B-gpe'), ('troops', 'O'), ('from', 'O'), ('that', 'O'), ('country', 'O'), ('.', 'O')]\n"
     ]
    }
   ],
   "source": [
    "print(\n",
    "    list(zip(sentences[0], tags[0]))\n",
    ")"
   ]
  },
  {
   "cell_type": "markdown",
   "id": "15882a80",
   "metadata": {},
   "source": [
    "## Tokenization"
   ]
  },
  {
   "cell_type": "code",
   "execution_count": 37,
   "id": "7af37ac6",
   "metadata": {},
   "outputs": [],
   "source": [
    "def tokenize(data):\n",
    "    word_2_idx, idx_2_word = {}, {}\n",
    "    tokenized_data = []\n",
    "    \n",
    "    for row in tqdm(data):\n",
    "        tokenized_row = []\n",
    "        for i, word in enumerate(row):\n",
    "            if word not in word_2_idx:\n",
    "                word_id = len(word_2_idx)\n",
    "                word_2_idx[word] = word_id\n",
    "                idx_2_word[word_id] = word\n",
    "            tokenized_row.append(word_2_idx[word])\n",
    "        tokenized_data.append(tokenized_row)\n",
    "            \n",
    "    return tokenized_data, word_2_idx, idx_2_word"
   ]
  },
  {
   "cell_type": "code",
   "execution_count": 38,
   "id": "7a088d0e",
   "metadata": {},
   "outputs": [
    {
     "name": "stderr",
     "output_type": "stream",
     "text": [
      "100%|██████████| 36684/36684 [00:00<00:00, 103819.52it/s]\n"
     ]
    }
   ],
   "source": [
    "tokenized_sentences, word_2_idx, idx_2_word = tokenize(sentences)"
   ]
  },
  {
   "cell_type": "code",
   "execution_count": 39,
   "id": "46eccd7f",
   "metadata": {},
   "outputs": [
    {
     "name": "stderr",
     "output_type": "stream",
     "text": [
      "100%|██████████| 36684/36684 [00:00<00:00, 217283.76it/s]\n"
     ]
    }
   ],
   "source": [
    "tokenized_tags, tag_2_idx, idx_2_tag = tokenize(tags)"
   ]
  },
  {
   "cell_type": "code",
   "execution_count": 40,
   "id": "b28c6718",
   "metadata": {
    "scrolled": true
   },
   "outputs": [
    {
     "data": {
      "text/plain": [
       "[(0, 'Thousands', 'O', 0),\n",
       " (1, 'of', 'O', 0),\n",
       " (2, 'demonstrators', 'O', 0),\n",
       " (3, 'have', 'O', 0),\n",
       " (4, 'marched', 'O', 0),\n",
       " (5, 'through', 'O', 0),\n",
       " (6, 'London', 'B-geo', 1),\n",
       " (7, 'to', 'O', 0),\n",
       " (8, 'protest', 'O', 0),\n",
       " (9, 'the', 'O', 0),\n",
       " (10, 'war', 'O', 0),\n",
       " (11, 'in', 'O', 0),\n",
       " (12, 'Iraq', 'B-geo', 1),\n",
       " (13, 'and', 'O', 0),\n",
       " (14, 'demand', 'O', 0),\n",
       " (9, 'the', 'O', 0),\n",
       " (15, 'withdrawal', 'O', 0),\n",
       " (1, 'of', 'O', 0),\n",
       " (16, 'British', 'B-gpe', 2),\n",
       " (17, 'troops', 'O', 0),\n",
       " (18, 'from', 'O', 0),\n",
       " (19, 'that', 'O', 0),\n",
       " (20, 'country', 'O', 0),\n",
       " (21, '.', 'O', 0)]"
      ]
     },
     "execution_count": 40,
     "metadata": {},
     "output_type": "execute_result"
    }
   ],
   "source": [
    "list(zip(tokenized_sentences[0], sentences[0], tags[0], tokenized_tags[0]))"
   ]
  },
  {
   "cell_type": "code",
   "execution_count": 41,
   "id": "9590c1c3",
   "metadata": {},
   "outputs": [],
   "source": [
    "PAD_IDX = len(word_2_idx)\n",
    "word_2_idx[\"<PAD>\"] = PAD_IDX\n",
    "idx_2_word[PAD_IDX] = \"<PAD>\""
   ]
  },
  {
   "cell_type": "code",
   "execution_count": 42,
   "id": "167e442c",
   "metadata": {},
   "outputs": [
    {
     "data": {
      "text/plain": [
       "(30173, 30173, 17, 17)"
      ]
     },
     "execution_count": 42,
     "metadata": {},
     "output_type": "execute_result"
    }
   ],
   "source": [
    "len(word_2_idx), len(idx_2_word), len(tag_2_idx), len(idx_2_tag)"
   ]
  },
  {
   "cell_type": "code",
   "execution_count": 43,
   "id": "0e13b8e8",
   "metadata": {
    "scrolled": false
   },
   "outputs": [
    {
     "data": {
      "text/plain": [
       "{'O': 0,\n",
       " 'B-geo': 1,\n",
       " 'B-gpe': 2,\n",
       " 'B-per': 3,\n",
       " 'I-geo': 4,\n",
       " 'B-org': 5,\n",
       " 'I-org': 6,\n",
       " 'B-tim': 7,\n",
       " 'B-art': 8,\n",
       " 'I-art': 9,\n",
       " 'I-per': 10,\n",
       " 'I-gpe': 11,\n",
       " 'I-tim': 12,\n",
       " 'B-nat': 13,\n",
       " 'B-eve': 14,\n",
       " 'I-eve': 15,\n",
       " 'I-nat': 16}"
      ]
     },
     "execution_count": 43,
     "metadata": {},
     "output_type": "execute_result"
    }
   ],
   "source": [
    "tag_2_idx"
   ]
  },
  {
   "cell_type": "code",
   "execution_count": 44,
   "id": "309a4608",
   "metadata": {},
   "outputs": [
    {
     "data": {
      "text/plain": [
       "array([889973,  37525,  16392,  17011,   7409,  20184,  16537,  20193,\n",
       "          434,    280,  17382,    229,   6298,    226,    348,    297,\n",
       "           76])"
      ]
     },
     "execution_count": 44,
     "metadata": {},
     "output_type": "execute_result"
    }
   ],
   "source": [
    "t = []\n",
    "for _ in tokenized_tags:\n",
    "    t.extend(_)\n",
    "np.bincount(t)"
   ]
  },
  {
   "cell_type": "markdown",
   "id": "63aef794",
   "metadata": {},
   "source": [
    "## Train Test datasets"
   ]
  },
  {
   "cell_type": "code",
   "execution_count": 45,
   "id": "a1868ac6",
   "metadata": {},
   "outputs": [],
   "source": [
    "from sklearn.model_selection import train_test_split"
   ]
  },
  {
   "cell_type": "code",
   "execution_count": 46,
   "id": "acd1b92c",
   "metadata": {},
   "outputs": [],
   "source": [
    "X_train, X_test, y_train, y_test = train_test_split(tokenized_sentences, tokenized_tags, test_size=0.15)"
   ]
  },
  {
   "cell_type": "code",
   "execution_count": 47,
   "id": "1b015910",
   "metadata": {},
   "outputs": [
    {
     "data": {
      "text/plain": [
       "(31181, 31181, 5503, 5503)"
      ]
     },
     "execution_count": 47,
     "metadata": {},
     "output_type": "execute_result"
    }
   ],
   "source": [
    "len(X_train), len(y_train), len(X_test), len(y_test)"
   ]
  },
  {
   "cell_type": "code",
   "execution_count": 48,
   "id": "74ca79f9",
   "metadata": {
    "scrolled": true
   },
   "outputs": [
    {
     "data": {
      "text/plain": [
       "[(16303, 8),\n",
       " (59, 0),\n",
       " (14807, 0),\n",
       " (31, 0),\n",
       " (296, 0),\n",
       " (297, 0),\n",
       " (1343, 0),\n",
       " (1891, 0),\n",
       " (254, 0),\n",
       " (18, 0),\n",
       " (1839, 3),\n",
       " (8893, 10),\n",
       " (93, 0),\n",
       " (45, 0),\n",
       " (8592, 0),\n",
       " (1, 0),\n",
       " (9, 0),\n",
       " (8513, 5),\n",
       " (6223, 6),\n",
       " (21, 0),\n",
       " (16303, 8),\n",
       " (59, 0),\n",
       " (14807, 0),\n",
       " (31, 0),\n",
       " (296, 0),\n",
       " (297, 0),\n",
       " (1343, 0),\n",
       " (1891, 0),\n",
       " (254, 0),\n",
       " (18, 0),\n",
       " (1839, 3),\n",
       " (8893, 10),\n",
       " (93, 0),\n",
       " (45, 0),\n",
       " (8592, 0),\n",
       " (1, 0),\n",
       " (9, 0),\n",
       " (8513, 5),\n",
       " (6223, 6),\n",
       " (21, 0)]"
      ]
     },
     "execution_count": 48,
     "metadata": {},
     "output_type": "execute_result"
    }
   ],
   "source": [
    "list(zip(X_train[0], y_train[0]))"
   ]
  },
  {
   "cell_type": "code",
   "execution_count": 49,
   "id": "360c01bd",
   "metadata": {},
   "outputs": [],
   "source": [
    "class NERDataset(torch.utils.data.Dataset):\n",
    "    \n",
    "    def __init__(self, x, y):\n",
    "        self.x = x\n",
    "        self.y = y\n",
    "    \n",
    "    def __len__(self):\n",
    "        return len(self.x)\n",
    "    \n",
    "    def __getitem__(self, i):\n",
    "        words = self.x[i]\n",
    "        tags = self.y[i]\n",
    "        \n",
    "        return torch.Tensor(words), torch.Tensor(tags)\n",
    "\n",
    "def collate(batch):\n",
    "    sentences, tags = zip(*batch)\n",
    "    \n",
    "    sentences = torch.nn.utils.rnn.pad_sequence(sentences, batch_first=True, padding_value=word_2_idx[\"<PAD>\"]).long()\n",
    "    tags = torch.nn.utils.rnn.pad_sequence(tags, batch_first=True, padding_value=-1).long()\n",
    "    \n",
    "    return sentences, tags"
   ]
  },
  {
   "cell_type": "code",
   "execution_count": 50,
   "id": "da78d6c4",
   "metadata": {},
   "outputs": [],
   "source": [
    "train_dataset = NERDataset(X_train, y_train)\n",
    "train_dataloader = torch.utils.data.DataLoader(train_dataset, shuffle=True, batch_size=64, collate_fn=collate)\n",
    "\n",
    "test_dataset = NERDataset(X_test, y_test)\n",
    "test_dataloader = torch.utils.data.DataLoader(test_dataset, shuffle=False, batch_size=64, collate_fn=collate)"
   ]
  },
  {
   "cell_type": "markdown",
   "id": "cf69f085",
   "metadata": {},
   "source": [
    "## CNN"
   ]
  },
  {
   "cell_type": "code",
   "execution_count": 51,
   "id": "c4ed1a95",
   "metadata": {},
   "outputs": [],
   "source": [
    "import sys\n",
    "sys.path.append(\"..\")"
   ]
  },
  {
   "cell_type": "code",
   "execution_count": 52,
   "id": "0fdbc806",
   "metadata": {},
   "outputs": [],
   "source": [
    "from models.cnn import CnnNER\n",
    "import torch.nn as nn\n",
    "from sklearn.metrics import f1_score"
   ]
  },
  {
   "cell_type": "code",
   "execution_count": 53,
   "id": "ef58390f",
   "metadata": {},
   "outputs": [],
   "source": [
    "model_config = {\n",
    "    \"n_classes\": len(tag_2_idx),\n",
    "    \"n_embeddings\": len(word_2_idx),\n",
    "    \"embed_dims\": 50,\n",
    "    \"n_cnn_layers\": 4,\n",
    "    \"n_cnn_channels\": 64,\n",
    "    \"cnn_kernel_size\": 5,\n",
    "    \"cnn_padding\": 2,\n",
    "}"
   ]
  },
  {
   "cell_type": "code",
   "execution_count": 54,
   "id": "4ad91ad5",
   "metadata": {},
   "outputs": [],
   "source": [
    "model = CnnNER(**model_config)"
   ]
  },
  {
   "cell_type": "code",
   "execution_count": 55,
   "id": "5aa6a9e7",
   "metadata": {},
   "outputs": [
    {
     "data": {
      "text/plain": [
       "CnnNER(\n",
       "  (embedding_layer): Embedding(30173, 50)\n",
       "  (cnn_layers): Sequential(\n",
       "    (0): Sequential(\n",
       "      (0): Conv1d(50, 64, kernel_size=(5,), stride=(1,), padding=(2,))\n",
       "      (1): ReLU()\n",
       "      (2): BatchNorm1d(64, eps=1e-05, momentum=0.1, affine=True, track_running_stats=True)\n",
       "      (3): Dropout(p=0.5, inplace=False)\n",
       "    )\n",
       "    (1): Sequential(\n",
       "      (0): Conv1d(64, 64, kernel_size=(5,), stride=(1,), padding=(2,))\n",
       "      (1): ReLU()\n",
       "      (2): BatchNorm1d(64, eps=1e-05, momentum=0.1, affine=True, track_running_stats=True)\n",
       "      (3): Dropout(p=0.5, inplace=False)\n",
       "    )\n",
       "    (2): Sequential(\n",
       "      (0): Conv1d(64, 64, kernel_size=(5,), stride=(1,), padding=(2,))\n",
       "      (1): ReLU()\n",
       "      (2): BatchNorm1d(64, eps=1e-05, momentum=0.1, affine=True, track_running_stats=True)\n",
       "      (3): Dropout(p=0.5, inplace=False)\n",
       "    )\n",
       "    (3): Sequential(\n",
       "      (0): Conv1d(64, 64, kernel_size=(5,), stride=(1,), padding=(2,))\n",
       "      (1): ReLU()\n",
       "      (2): BatchNorm1d(64, eps=1e-05, momentum=0.1, affine=True, track_running_stats=True)\n",
       "      (3): Dropout(p=0.5, inplace=False)\n",
       "    )\n",
       "  )\n",
       "  (output_layer): Linear(in_features=64, out_features=17, bias=True)\n",
       ")"
      ]
     },
     "execution_count": 55,
     "metadata": {},
     "output_type": "execute_result"
    }
   ],
   "source": [
    "model"
   ]
  },
  {
   "cell_type": "code",
   "execution_count": 56,
   "id": "489beed2",
   "metadata": {},
   "outputs": [],
   "source": [
    "loss_fn = nn.CrossEntropyLoss(ignore_index=-1)\n",
    "optimizer = torch.optim.Adam(model.parameters(), lr=5e-4)"
   ]
  },
  {
   "cell_type": "code",
   "execution_count": null,
   "id": "673f9713",
   "metadata": {
    "scrolled": true
   },
   "outputs": [],
   "source": [
    "def train(epochs, model):\n",
    "    def train_batch(x, y, train):\n",
    "        if train:\n",
    "            model.train()\n",
    "            optimizer.zero_grad()\n",
    "        else:\n",
    "            model.eval()\n",
    "\n",
    "        preds = model(x)\n",
    "        loss = loss_fn(preds.transpose(1, 2), y)\n",
    "        if train:\n",
    "            loss.backward()\n",
    "            optimizer.step()\n",
    "\n",
    "        preds = preds.argmax(dim=-1)\n",
    "\n",
    "        mask = (y >= 0)\n",
    "        y_masked = y[mask]\n",
    "        preds_masked = preds[mask]\n",
    "\n",
    "        corr = (preds_masked == y_masked).sum().item()\n",
    "        f1 = f1_score(y_masked, preds_masked, average='macro')\n",
    "\n",
    "        return preds_masked, y_masked, corr, y_masked.numel(), loss.item(), f1\n",
    "\n",
    "\n",
    "    for e in range(epochs):\n",
    "\n",
    "        train_corr = 0\n",
    "        train_total = 0\n",
    "        train_loss = 0.\n",
    "        train_preds = []\n",
    "        train_true = []\n",
    "        train_loop = tqdm(train_dataloader, leave=False, position=0)\n",
    "        train_loop.set_description(f\"Epoch {e+1}\")\n",
    "        for batch_num, (x, y) in enumerate(train_loop):\n",
    "            batch_preds, batch_true, batch_corr, batch_total, batch_loss, f1 = train_batch(x, y, train=True)\n",
    "\n",
    "            train_corr += batch_corr\n",
    "            train_total += batch_total\n",
    "            train_loss += batch_loss\n",
    "            train_preds.extend(batch_preds.tolist())\n",
    "            train_true.extend(batch_true.tolist())\n",
    "\n",
    "            train_loop.set_postfix(acc=(batch_corr/batch_total) * 100., loss=batch_loss, f1=f1)\n",
    "\n",
    "        print(f\"Train Epoch {e+1} loss={train_loss/len(train_dataloader)} acc={train_corr/train_total * 100} f1={f1_score(train_true, train_preds, average='weighted')}\")\n",
    "\n",
    "        val_corr = 0\n",
    "        val_total = 0\n",
    "        val_loss = 0.\n",
    "        val_preds = []\n",
    "        val_true = []\n",
    "        val_loop = tqdm(test_dataloader, leave=False, position=0)\n",
    "        val_loop.set_description(f\"Epoch {e+1}\")\n",
    "        for batch_num, (x, y) in enumerate(val_loop):\n",
    "            batch_preds, batch_true, batch_corr, batch_total, batch_loss, f1 = train_batch(x, y, train=False)\n",
    "\n",
    "            val_corr += batch_corr\n",
    "            val_total += batch_total\n",
    "            val_loss += batch_loss\n",
    "            val_preds.extend(batch_preds.tolist())\n",
    "            val_true.extend(batch_true.tolist())\n",
    "\n",
    "            val_loop.set_postfix(acc=batch_corr/batch_total * 100., loss=batch_loss, f1=f1)\n",
    "\n",
    "        print(f\"Val Epoch {e+1} loss={val_loss/len(test_dataloader)} acc={val_corr/val_total * 100} f1={f1_score(val_true, val_preds, average='weighted')}\")"
   ]
  },
  {
   "cell_type": "code",
   "execution_count": 59,
   "id": "8d1adeb5",
   "metadata": {
    "scrolled": true
   },
   "outputs": [
    {
     "name": "stderr",
     "output_type": "stream",
     "text": [
      "                                                                                          \r"
     ]
    },
    {
     "name": "stdout",
     "output_type": "stream",
     "text": [
      "Train Epoch 0 loss=0.31728164698989664 acc=90.92238642632468 f1=0.900732996794532\n"
     ]
    },
    {
     "name": "stderr",
     "output_type": "stream",
     "text": [
      "Epoch 1:   0%|          | 0/86 [00:01<?, ?it/s, acc=91.5, f1=0.412, loss=0.303]"
     ]
    },
    {
     "name": "stdout",
     "output_type": "stream",
     "text": [
      "Val Epoch 0 loss=0.2591884900317636 acc=92.59051825639786 f1=0.921351201632474\n"
     ]
    },
    {
     "name": "stderr",
     "output_type": "stream",
     "text": [
      "                                                                                          \r"
     ]
    },
    {
     "name": "stdout",
     "output_type": "stream",
     "text": [
      "Train Epoch 1 loss=0.2906424852668262 acc=91.74808178848815 f1=0.9111680432421218\n"
     ]
    },
    {
     "name": "stderr",
     "output_type": "stream",
     "text": [
      "Epoch 2:   0%|          | 0/86 [00:01<?, ?it/s, acc=92, f1=0.429, loss=0.275]  "
     ]
    },
    {
     "name": "stdout",
     "output_type": "stream",
     "text": [
      "Val Epoch 1 loss=0.2375396994310756 acc=93.24541919387995 f1=0.9286728527694147\n"
     ]
    },
    {
     "name": "stderr",
     "output_type": "stream",
     "text": [
      "                                                                                          \r"
     ]
    },
    {
     "name": "stdout",
     "output_type": "stream",
     "text": [
      "Train Epoch 2 loss=0.26774571258880075 acc=92.47071909013496 f1=0.9196284950723157\n"
     ]
    },
    {
     "name": "stderr",
     "output_type": "stream",
     "text": [
      "Epoch 3:   0%|          | 0/86 [00:01<?, ?it/s, acc=92.7, f1=0.447, loss=0.251]"
     ]
    },
    {
     "name": "stdout",
     "output_type": "stream",
     "text": [
      "Val Epoch 2 loss=0.22309148744788282 acc=93.72275223869198 f1=0.9340931831578947\n"
     ]
    },
    {
     "name": "stderr",
     "output_type": "stream",
     "text": [
      "                                                                                          \r"
     ]
    },
    {
     "name": "stdout",
     "output_type": "stream",
     "text": [
      "Train Epoch 3 loss=0.2485033975089671 acc=93.08168218505469 f1=0.9266667654721753\n"
     ]
    },
    {
     "name": "stderr",
     "output_type": "stream",
     "text": [
      "Epoch 4:   0%|          | 0/86 [00:01<?, ?it/s, acc=93.4, f1=0.483, loss=0.234]"
     ]
    },
    {
     "name": "stdout",
     "output_type": "stream",
     "text": [
      "Val Epoch 3 loss=0.20792901931807053 acc=94.01678939429618 f1=0.9378462032257242\n"
     ]
    },
    {
     "name": "stderr",
     "output_type": "stream",
     "text": [
      "                                                                                          \r"
     ]
    },
    {
     "name": "stdout",
     "output_type": "stream",
     "text": [
      "Train Epoch 4 loss=0.23263662888622674 acc=93.56351498482104 f1=0.9321187519208465\n"
     ]
    },
    {
     "name": "stderr",
     "output_type": "stream",
     "text": [
      "Epoch 5:   0%|          | 0/86 [00:01<?, ?it/s, acc=93.8, f1=0.502, loss=0.213]"
     ]
    },
    {
     "name": "stdout",
     "output_type": "stream",
     "text": [
      "Val Epoch 4 loss=0.19837765066429627 acc=94.37638028805459 f1=0.9419144090111531\n"
     ]
    }
   ],
   "source": [
    "train(5, model)"
   ]
  },
  {
   "cell_type": "markdown",
   "id": "9f944aff",
   "metadata": {},
   "source": [
    "## LSTM"
   ]
  },
  {
   "cell_type": "code",
   "execution_count": 60,
   "id": "df942019",
   "metadata": {},
   "outputs": [],
   "source": [
    "from models.lstm import LSTMNER"
   ]
  },
  {
   "cell_type": "code",
   "execution_count": 61,
   "id": "c79760f3",
   "metadata": {},
   "outputs": [],
   "source": [
    "model_config = {\n",
    "    \"n_classes\": len(tag_2_idx),\n",
    "    \"n_embeddings\": len(word_2_idx),\n",
    "    \"embed_dims\": 50,\n",
    "    \"n_lstm_layers\": 2,\n",
    "    \"lstm_dims\": 128,\n",
    "}"
   ]
  },
  {
   "cell_type": "code",
   "execution_count": 62,
   "id": "0aeaea02",
   "metadata": {},
   "outputs": [],
   "source": [
    "model = LSTMNER(**model_config)"
   ]
  },
  {
   "cell_type": "code",
   "execution_count": 63,
   "id": "1ad01bca",
   "metadata": {},
   "outputs": [
    {
     "data": {
      "text/plain": [
       "LSTMNER(\n",
       "  (embedding_layer): Embedding(30173, 50)\n",
       "  (lstm_layers): LSTM(50, 128, num_layers=2, batch_first=True, bidirectional=True)\n",
       "  (output_layer): Linear(in_features=256, out_features=17, bias=True)\n",
       ")"
      ]
     },
     "execution_count": 63,
     "metadata": {},
     "output_type": "execute_result"
    }
   ],
   "source": [
    "model"
   ]
  },
  {
   "cell_type": "code",
   "execution_count": 66,
   "id": "e316c4ff",
   "metadata": {},
   "outputs": [],
   "source": [
    "loss_fn = nn.CrossEntropyLoss(ignore_index=-1)\n",
    "optimizer = torch.optim.Adam(model.parameters(), lr=5e-4)"
   ]
  },
  {
   "cell_type": "code",
   "execution_count": 67,
   "id": "412dff5c",
   "metadata": {
    "scrolled": true
   },
   "outputs": [
    {
     "name": "stderr",
     "output_type": "stream",
     "text": [
      "                                                                                           \r"
     ]
    },
    {
     "name": "stdout",
     "output_type": "stream",
     "text": [
      "Train Epoch 1 loss=0.6473111892577077 acc=85.97481623550502 f1=0.8138471382900698\n"
     ]
    },
    {
     "name": "stderr",
     "output_type": "stream",
     "text": [
      "Epoch 1:   0%|          | 0/86 [00:13<?, ?it/s, acc=88.8, f1=0.319, loss=0.423]"
     ]
    },
    {
     "name": "stdout",
     "output_type": "stream",
     "text": [
      "Val Epoch 1 loss=0.3863755727923194 acc=89.6660578018495 f1=0.8736550118635578\n"
     ]
    },
    {
     "name": "stderr",
     "output_type": "stream",
     "text": [
      "                                                                                          \r"
     ]
    },
    {
     "name": "stdout",
     "output_type": "stream",
     "text": [
      "Train Epoch 2 loss=0.3016435936337612 acc=91.9036200122864 f1=0.9092482044492394\n"
     ]
    },
    {
     "name": "stderr",
     "output_type": "stream",
     "text": [
      "Epoch 2:   0%|          | 0/86 [00:14<?, ?it/s, acc=93.5, f1=0.529, loss=0.247]"
     ]
    },
    {
     "name": "stdout",
     "output_type": "stream",
     "text": [
      "Val Epoch 2 loss=0.2482122607355894 acc=93.31033648797438 f1=0.9282904077231984\n"
     ]
    },
    {
     "name": "stderr",
     "output_type": "stream",
     "text": [
      "                                                                                           \r"
     ]
    },
    {
     "name": "stdout",
     "output_type": "stream",
     "text": [
      "Train Epoch 3 loss=0.2102910633519536 acc=94.16921887361232 f1=0.9375413813972469\n"
     ]
    },
    {
     "name": "stderr",
     "output_type": "stream",
     "text": [
      "Epoch 3:   0%|          | 0/86 [00:13<?, ?it/s, acc=95, f1=0.575, loss=0.189]  "
     ]
    },
    {
     "name": "stdout",
     "output_type": "stream",
     "text": [
      "Val Epoch 3 loss=0.19839633221543113 acc=94.46739178859875 f1=0.9420542942193333\n"
     ]
    },
    {
     "name": "stderr",
     "output_type": "stream",
     "text": [
      "                                                                                           \r"
     ]
    },
    {
     "name": "stdout",
     "output_type": "stream",
     "text": [
      "Train Epoch 4 loss=0.16648826364916366 acc=95.21759126121357 f1=0.949519244822825\n"
     ]
    },
    {
     "name": "stderr",
     "output_type": "stream",
     "text": [
      "Epoch 4:   0%|          | 0/86 [00:14<?, ?it/s, acc=95.5, f1=0.586, loss=0.175]"
     ]
    },
    {
     "name": "stdout",
     "output_type": "stream",
     "text": [
      "Val Epoch 4 loss=0.17698947340250015 acc=95.0160065681027 f1=0.9465249631328548\n"
     ]
    },
    {
     "name": "stderr",
     "output_type": "stream",
     "text": [
      "                                                                                           \r"
     ]
    },
    {
     "name": "stdout",
     "output_type": "stream",
     "text": [
      "Train Epoch 5 loss=0.13905731860365048 acc=95.92042261637673 f1=0.9572407130675531\n"
     ]
    },
    {
     "name": "stderr",
     "output_type": "stream",
     "text": [
      "Epoch 5:   0%|          | 0/86 [00:19<?, ?it/s, acc=95.8, f1=0.637, loss=0.152]"
     ]
    },
    {
     "name": "stdout",
     "output_type": "stream",
     "text": [
      "Val Epoch 5 loss=0.1624663075388864 acc=95.36732368908434 f1=0.9511528908485425\n"
     ]
    },
    {
     "name": "stderr",
     "output_type": "stream",
     "text": [
      "                                                                                           \r"
     ]
    },
    {
     "name": "stdout",
     "output_type": "stream",
     "text": [
      "Train Epoch 6 loss=0.1192531486225055 acc=96.43627240897378 f1=0.9628594833637752\n"
     ]
    },
    {
     "name": "stderr",
     "output_type": "stream",
     "text": [
      "Epoch 6:   0%|          | 0/86 [00:16<?, ?it/s, acc=96.3, f1=0.659, loss=0.141]"
     ]
    },
    {
     "name": "stdout",
     "output_type": "stream",
     "text": [
      "Val Epoch 6 loss=0.1550069819529389 acc=95.60535376743061 f1=0.9540809379457951\n"
     ]
    },
    {
     "name": "stderr",
     "output_type": "stream",
     "text": [
      "                                                                                           \r"
     ]
    },
    {
     "name": "stdout",
     "output_type": "stream",
     "text": [
      "Train Epoch 7 loss=0.10352276899989267 acc=96.87099614958973 f1=0.9675175227071259\n"
     ]
    },
    {
     "name": "stderr",
     "output_type": "stream",
     "text": [
      "Epoch 7:   0%|          | 0/86 [00:15<?, ?it/s, acc=96.2, f1=0.656, loss=0.145] "
     ]
    },
    {
     "name": "stdout",
     "output_type": "stream",
     "text": [
      "Val Epoch 7 loss=0.14877967389170513 acc=95.64163107883633 f1=0.9553231624978981\n"
     ]
    },
    {
     "name": "stderr",
     "output_type": "stream",
     "text": [
      "                                                                                           \r"
     ]
    },
    {
     "name": "stdout",
     "output_type": "stream",
     "text": [
      "Train Epoch 8 loss=0.08969805978208048 acc=97.2514493588804 f1=0.9715336050222647\n"
     ]
    },
    {
     "name": "stderr",
     "output_type": "stream",
     "text": [
      "Epoch 8:   0%|          | 0/86 [00:13<?, ?it/s, acc=96.3, f1=0.656, loss=0.137] "
     ]
    },
    {
     "name": "stdout",
     "output_type": "stream",
     "text": [
      "Val Epoch 8 loss=0.14752763527077298 acc=95.71673147788675 f1=0.9560294851807022\n"
     ]
    },
    {
     "name": "stderr",
     "output_type": "stream",
     "text": [
      "                                                                                          \r"
     ]
    },
    {
     "ename": "KeyboardInterrupt",
     "evalue": "",
     "output_type": "error",
     "traceback": [
      "\u001b[0;31m---------------------------------------------------------------------------\u001b[0m",
      "\u001b[0;31mKeyboardInterrupt\u001b[0m                         Traceback (most recent call last)",
      "\u001b[0;32m<ipython-input-67-c26173096bef>\u001b[0m in \u001b[0;36m<module>\u001b[0;34m\u001b[0m\n\u001b[0;32m----> 1\u001b[0;31m \u001b[0mtrain\u001b[0m\u001b[0;34m(\u001b[0m\u001b[0;36m10\u001b[0m\u001b[0;34m,\u001b[0m \u001b[0mmodel\u001b[0m\u001b[0;34m)\u001b[0m\u001b[0;34m\u001b[0m\u001b[0;34m\u001b[0m\u001b[0m\n\u001b[0m",
      "\u001b[0;32m<ipython-input-65-b83c76241647>\u001b[0m in \u001b[0;36mtrain\u001b[0;34m(epochs, model)\u001b[0m\n\u001b[1;32m     35\u001b[0m         \u001b[0mtrain_loop\u001b[0m\u001b[0;34m.\u001b[0m\u001b[0mset_description\u001b[0m\u001b[0;34m(\u001b[0m\u001b[0;34mf\"Epoch {e+1}\"\u001b[0m\u001b[0;34m)\u001b[0m\u001b[0;34m\u001b[0m\u001b[0;34m\u001b[0m\u001b[0m\n\u001b[1;32m     36\u001b[0m         \u001b[0;32mfor\u001b[0m \u001b[0mbatch_num\u001b[0m\u001b[0;34m,\u001b[0m \u001b[0;34m(\u001b[0m\u001b[0mx\u001b[0m\u001b[0;34m,\u001b[0m \u001b[0my\u001b[0m\u001b[0;34m)\u001b[0m \u001b[0;32min\u001b[0m \u001b[0menumerate\u001b[0m\u001b[0;34m(\u001b[0m\u001b[0mtrain_loop\u001b[0m\u001b[0;34m)\u001b[0m\u001b[0;34m:\u001b[0m\u001b[0;34m\u001b[0m\u001b[0;34m\u001b[0m\u001b[0m\n\u001b[0;32m---> 37\u001b[0;31m             \u001b[0mbatch_preds\u001b[0m\u001b[0;34m,\u001b[0m \u001b[0mbatch_true\u001b[0m\u001b[0;34m,\u001b[0m \u001b[0mbatch_corr\u001b[0m\u001b[0;34m,\u001b[0m \u001b[0mbatch_total\u001b[0m\u001b[0;34m,\u001b[0m \u001b[0mbatch_loss\u001b[0m\u001b[0;34m,\u001b[0m \u001b[0mf1\u001b[0m \u001b[0;34m=\u001b[0m \u001b[0mtrain_batch\u001b[0m\u001b[0;34m(\u001b[0m\u001b[0mx\u001b[0m\u001b[0;34m,\u001b[0m \u001b[0my\u001b[0m\u001b[0;34m,\u001b[0m \u001b[0mtrain\u001b[0m\u001b[0;34m=\u001b[0m\u001b[0;32mTrue\u001b[0m\u001b[0;34m)\u001b[0m\u001b[0;34m\u001b[0m\u001b[0;34m\u001b[0m\u001b[0m\n\u001b[0m\u001b[1;32m     38\u001b[0m \u001b[0;34m\u001b[0m\u001b[0m\n\u001b[1;32m     39\u001b[0m             \u001b[0mtrain_corr\u001b[0m \u001b[0;34m+=\u001b[0m \u001b[0mbatch_corr\u001b[0m\u001b[0;34m\u001b[0m\u001b[0;34m\u001b[0m\u001b[0m\n",
      "\u001b[0;32m<ipython-input-65-b83c76241647>\u001b[0m in \u001b[0;36mtrain_batch\u001b[0;34m(x, y, train)\u001b[0m\n\u001b[1;32m     10\u001b[0m         \u001b[0mloss\u001b[0m \u001b[0;34m=\u001b[0m \u001b[0mloss_fn\u001b[0m\u001b[0;34m(\u001b[0m\u001b[0mpreds\u001b[0m\u001b[0;34m.\u001b[0m\u001b[0mtranspose\u001b[0m\u001b[0;34m(\u001b[0m\u001b[0;36m1\u001b[0m\u001b[0;34m,\u001b[0m \u001b[0;36m2\u001b[0m\u001b[0;34m)\u001b[0m\u001b[0;34m,\u001b[0m \u001b[0my\u001b[0m\u001b[0;34m)\u001b[0m\u001b[0;34m\u001b[0m\u001b[0;34m\u001b[0m\u001b[0m\n\u001b[1;32m     11\u001b[0m         \u001b[0;32mif\u001b[0m \u001b[0mtrain\u001b[0m\u001b[0;34m:\u001b[0m\u001b[0;34m\u001b[0m\u001b[0;34m\u001b[0m\u001b[0m\n\u001b[0;32m---> 12\u001b[0;31m             \u001b[0mloss\u001b[0m\u001b[0;34m.\u001b[0m\u001b[0mbackward\u001b[0m\u001b[0;34m(\u001b[0m\u001b[0;34m)\u001b[0m\u001b[0;34m\u001b[0m\u001b[0;34m\u001b[0m\u001b[0m\n\u001b[0m\u001b[1;32m     13\u001b[0m             \u001b[0moptimizer\u001b[0m\u001b[0;34m.\u001b[0m\u001b[0mstep\u001b[0m\u001b[0;34m(\u001b[0m\u001b[0;34m)\u001b[0m\u001b[0;34m\u001b[0m\u001b[0;34m\u001b[0m\u001b[0m\n\u001b[1;32m     14\u001b[0m \u001b[0;34m\u001b[0m\u001b[0m\n",
      "\u001b[0;32m~/miniconda3/envs/py38/lib/python3.8/site-packages/torch/tensor.py\u001b[0m in \u001b[0;36mbackward\u001b[0;34m(self, gradient, retain_graph, create_graph)\u001b[0m\n\u001b[1;32m    219\u001b[0m                 \u001b[0mretain_graph\u001b[0m\u001b[0;34m=\u001b[0m\u001b[0mretain_graph\u001b[0m\u001b[0;34m,\u001b[0m\u001b[0;34m\u001b[0m\u001b[0;34m\u001b[0m\u001b[0m\n\u001b[1;32m    220\u001b[0m                 create_graph=create_graph)\n\u001b[0;32m--> 221\u001b[0;31m         \u001b[0mtorch\u001b[0m\u001b[0;34m.\u001b[0m\u001b[0mautograd\u001b[0m\u001b[0;34m.\u001b[0m\u001b[0mbackward\u001b[0m\u001b[0;34m(\u001b[0m\u001b[0mself\u001b[0m\u001b[0;34m,\u001b[0m \u001b[0mgradient\u001b[0m\u001b[0;34m,\u001b[0m \u001b[0mretain_graph\u001b[0m\u001b[0;34m,\u001b[0m \u001b[0mcreate_graph\u001b[0m\u001b[0;34m)\u001b[0m\u001b[0;34m\u001b[0m\u001b[0;34m\u001b[0m\u001b[0m\n\u001b[0m\u001b[1;32m    222\u001b[0m \u001b[0;34m\u001b[0m\u001b[0m\n\u001b[1;32m    223\u001b[0m     \u001b[0;32mdef\u001b[0m \u001b[0mregister_hook\u001b[0m\u001b[0;34m(\u001b[0m\u001b[0mself\u001b[0m\u001b[0;34m,\u001b[0m \u001b[0mhook\u001b[0m\u001b[0;34m)\u001b[0m\u001b[0;34m:\u001b[0m\u001b[0;34m\u001b[0m\u001b[0;34m\u001b[0m\u001b[0m\n",
      "\u001b[0;32m~/miniconda3/envs/py38/lib/python3.8/site-packages/torch/autograd/__init__.py\u001b[0m in \u001b[0;36mbackward\u001b[0;34m(tensors, grad_tensors, retain_graph, create_graph, grad_variables)\u001b[0m\n\u001b[1;32m    128\u001b[0m         \u001b[0mretain_graph\u001b[0m \u001b[0;34m=\u001b[0m \u001b[0mcreate_graph\u001b[0m\u001b[0;34m\u001b[0m\u001b[0;34m\u001b[0m\u001b[0m\n\u001b[1;32m    129\u001b[0m \u001b[0;34m\u001b[0m\u001b[0m\n\u001b[0;32m--> 130\u001b[0;31m     Variable._execution_engine.run_backward(\n\u001b[0m\u001b[1;32m    131\u001b[0m         \u001b[0mtensors\u001b[0m\u001b[0;34m,\u001b[0m \u001b[0mgrad_tensors_\u001b[0m\u001b[0;34m,\u001b[0m \u001b[0mretain_graph\u001b[0m\u001b[0;34m,\u001b[0m \u001b[0mcreate_graph\u001b[0m\u001b[0;34m,\u001b[0m\u001b[0;34m\u001b[0m\u001b[0;34m\u001b[0m\u001b[0m\n\u001b[1;32m    132\u001b[0m         allow_unreachable=True)  # allow_unreachable flag\n",
      "\u001b[0;31mKeyboardInterrupt\u001b[0m: "
     ]
    }
   ],
   "source": [
    "train(10, model)"
   ]
  },
  {
   "cell_type": "markdown",
   "id": "503f568d",
   "metadata": {},
   "source": [
    "## CNN+LSTM"
   ]
  },
  {
   "cell_type": "code",
   "execution_count": 68,
   "id": "8225d3a8",
   "metadata": {},
   "outputs": [],
   "source": [
    "from models.cnn_lstm import CnnLSTMNER"
   ]
  },
  {
   "cell_type": "code",
   "execution_count": 69,
   "id": "009bf690",
   "metadata": {},
   "outputs": [],
   "source": [
    "model_config = {\n",
    "    \"n_classes\": len(tag_2_idx),\n",
    "    \"n_embeddings\": len(word_2_idx),\n",
    "    \"embed_dims\": 50,\n",
    "    \"n_cnn_layers\": 4,\n",
    "    \"n_cnn_channels\": 64,\n",
    "    \"cnn_kernel_size\": 5,\n",
    "    \"cnn_padding\": 2,\n",
    "    \"n_lstm_layers\": 2,\n",
    "    \"lstm_dims\": 128\n",
    "}"
   ]
  },
  {
   "cell_type": "code",
   "execution_count": 70,
   "id": "6b9e11b7",
   "metadata": {},
   "outputs": [],
   "source": [
    "model = CnnLSTMNER(**model_config)"
   ]
  },
  {
   "cell_type": "code",
   "execution_count": 71,
   "id": "aaccced1",
   "metadata": {},
   "outputs": [
    {
     "data": {
      "text/plain": [
       "CnnLSTMNER(\n",
       "  (embedding_layer): Embedding(30173, 50)\n",
       "  (cnn_layers): Sequential(\n",
       "    (0): Sequential(\n",
       "      (0): Conv1d(50, 64, kernel_size=(5,), stride=(1,), padding=(2,))\n",
       "      (1): ReLU()\n",
       "      (2): BatchNorm1d(64, eps=1e-05, momentum=0.1, affine=True, track_running_stats=True)\n",
       "      (3): Dropout(p=0.5, inplace=False)\n",
       "    )\n",
       "    (1): Sequential(\n",
       "      (0): Conv1d(64, 64, kernel_size=(5,), stride=(1,), padding=(2,))\n",
       "      (1): ReLU()\n",
       "      (2): BatchNorm1d(64, eps=1e-05, momentum=0.1, affine=True, track_running_stats=True)\n",
       "      (3): Dropout(p=0.5, inplace=False)\n",
       "    )\n",
       "    (2): Sequential(\n",
       "      (0): Conv1d(64, 64, kernel_size=(5,), stride=(1,), padding=(2,))\n",
       "      (1): ReLU()\n",
       "      (2): BatchNorm1d(64, eps=1e-05, momentum=0.1, affine=True, track_running_stats=True)\n",
       "      (3): Dropout(p=0.5, inplace=False)\n",
       "    )\n",
       "    (3): Sequential(\n",
       "      (0): Conv1d(64, 64, kernel_size=(5,), stride=(1,), padding=(2,))\n",
       "      (1): ReLU()\n",
       "      (2): BatchNorm1d(64, eps=1e-05, momentum=0.1, affine=True, track_running_stats=True)\n",
       "      (3): Dropout(p=0.5, inplace=False)\n",
       "    )\n",
       "  )\n",
       "  (lstm_layers): LSTM(64, 128, num_layers=2, batch_first=True, bidirectional=True)\n",
       "  (output_layer): Linear(in_features=256, out_features=17, bias=True)\n",
       ")"
      ]
     },
     "execution_count": 71,
     "metadata": {},
     "output_type": "execute_result"
    }
   ],
   "source": [
    "model"
   ]
  },
  {
   "cell_type": "code",
   "execution_count": 72,
   "id": "f5ffa2cb",
   "metadata": {},
   "outputs": [],
   "source": [
    "loss_fn = nn.CrossEntropyLoss(ignore_index=-1)\n",
    "optimizer = torch.optim.Adam(model.parameters(), lr=5e-4)"
   ]
  },
  {
   "cell_type": "code",
   "execution_count": null,
   "id": "d3bdc43c",
   "metadata": {},
   "outputs": [
    {
     "name": "stderr",
     "output_type": "stream",
     "text": [
      "                                                                                           \r"
     ]
    },
    {
     "name": "stdout",
     "output_type": "stream",
     "text": [
      "Train Epoch 1 loss=0.7450560078513427 acc=84.52674418214309 f1=0.7765363569520037\n"
     ]
    },
    {
     "name": "stderr",
     "output_type": "stream",
     "text": [
      "Epoch 1:   0%|          | 0/86 [00:14<?, ?it/s, acc=84, f1=0.112, loss=0.605]   "
     ]
    },
    {
     "name": "stdout",
     "output_type": "stream",
     "text": [
      "Val Epoch 1 loss=0.5551530881676563 acc=85.28859555889335 f1=0.790970352412613\n"
     ]
    },
    {
     "name": "stderr",
     "output_type": "stream",
     "text": [
      "                                                                                          \r"
     ]
    },
    {
     "name": "stdout",
     "output_type": "stream",
     "text": [
      "Train Epoch 2 loss=0.5119650607592747 acc=86.50331050241084 f1=0.8257238597838544\n"
     ]
    },
    {
     "name": "stderr",
     "output_type": "stream",
     "text": [
      "Epoch 2:   0%|          | 0/86 [00:14<?, ?it/s, acc=88.1, f1=0.278, loss=0.451]"
     ]
    },
    {
     "name": "stdout",
     "output_type": "stream",
     "text": [
      "Val Epoch 2 loss=0.41046287639196527 acc=88.60255977800831 f1=0.8587121028155795\n"
     ]
    },
    {
     "name": "stderr",
     "output_type": "stream",
     "text": [
      "Epoch 3:  50%|█████     | 246/488 [02:10<02:03,  1.96it/s, acc=88.2, f1=0.374, loss=0.406]"
     ]
    }
   ],
   "source": [
    "train(10, model)"
   ]
  },
  {
   "cell_type": "code",
   "execution_count": null,
   "id": "404e336e",
   "metadata": {},
   "outputs": [],
   "source": []
  }
 ],
 "metadata": {
  "kernelspec": {
   "display_name": "Python 3",
   "language": "python",
   "name": "python3"
  },
  "language_info": {
   "codemirror_mode": {
    "name": "ipython",
    "version": 3
   },
   "file_extension": ".py",
   "mimetype": "text/x-python",
   "name": "python",
   "nbconvert_exporter": "python",
   "pygments_lexer": "ipython3",
   "version": "3.8.10"
  }
 },
 "nbformat": 4,
 "nbformat_minor": 5
}
